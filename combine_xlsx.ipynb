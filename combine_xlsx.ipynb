{
 "metadata": {
  "language_info": {
   "codemirror_mode": {
    "name": "ipython",
    "version": 3
   },
   "file_extension": ".py",
   "mimetype": "text/x-python",
   "name": "python",
   "nbconvert_exporter": "python",
   "pygments_lexer": "ipython3",
   "version": 3
  },
  "orig_nbformat": 2
 },
 "nbformat": 4,
 "nbformat_minor": 2,
 "cells": [
  {
   "cell_type": "code",
   "execution_count": null,
   "metadata": {},
   "outputs": [],
   "source": [
    "import pandas as pd"
   ]
  },
  {
   "cell_type": "code",
   "execution_count": null,
   "metadata": {},
   "outputs": [],
   "source": [
    "df_1900_1965 = pd.read_excel('/Users/lizhimiao/Desktop/\"Trends in Communication Science\"/output_xlsx/1900-1965.xlsx')\n",
    "df_1966_1980 = pd.read_excel('/Users/lizhimiao/Desktop/\"Trends in Communication Science\"/output_xlsx/1966-1980.xlsx')\n",
    "df_1981_1989 = pd.read_excel('/Users/lizhimiao/Desktop/\"Trends in Communication Science\"/output_xlsx/1981-1989.xlsx')\n",
    "df_1990_1995 = pd.read_excel('/Users/lizhimiao/Desktop/\"Trends in Communication Science\"/output_xlsx/1990-1995.xlsx')\n",
    "df_1996_1999 = pd.read_excel('/Users/lizhimiao/Desktop/\"Trends in Communication Science\"/output_xlsx/1996-1999.xlsx')\n",
    "df_2000_2002 = pd.read_excel('/Users/lizhimiao/Desktop/\"Trends in Communication Science\"/output_xlsx/2000-2002.xlsx')\n",
    "df_2003_2004 = pd.read_excel('/Users/lizhimiao/Desktop/\"Trends in Communication Science\"/output_xlsx/2003-2004.xlsx')\n",
    "df_2005_2006 = pd.read_excel('/Users/lizhimiao/Desktop/\"Trends in Communication Science\"/output_xlsx/2005-2006.xlsx')\n",
    "df_2007 = pd.read_excel('/Users/lizhimiao/Desktop/\"Trends in Communication Science\"/output_xlsx/2007-2007.xlsx')\n",
    "df_2008 = pd.read_excel('/Users/lizhimiao/Desktop/\"Trends in Communication Science\"/output_xlsx/2008-2008.xlsx')\n",
    "df_2009 = pd.read_excel('/Users/lizhimiao/Desktop/\"Trends in Communication Science\"/output_xlsx/2009-2009.xlsx')\n",
    "df_2010 = pd.read_excel('/Users/lizhimiao/Desktop/\"Trends in Communication Science\"/output_xlsx/2010-2010.xlsx')\n",
    "df_2011 = pd.read_excel('/Users/lizhimiao/Desktop/\"Trends in Communication Science\"/output_xlsx/2011-2011.xlsx')\n",
    "df_2012 = pd.read_excel('/Users/lizhimiao/Desktop/\"Trends in Communication Science\"/output_xlsx/2012-2012.xlsx')\n",
    "df_2013 = pd.read_excel('/Users/lizhimiao/Desktop/\"Trends in Communication Science\"/output_xlsx/2013-2013.xlsx')\n",
    "df_2014 = pd.read_excel('/Users/lizhimiao/Desktop/\"Trends in Communication Science\"/output_xlsx/2014-2014.xlsx')\n",
    "df_2015 = pd.read_excel('/Users/lizhimiao/Desktop/\"Trends in Communication Science\"/output_xlsx/2015-2015.xlsx')\n",
    "df_2016 = pd.read_excel('/Users/lizhimiao/Desktop/\"Trends in Communication Science\"/output_xlsx/2016-2016.xlsx')\n",
    "df_2017 = pd.read_excel('/Users/lizhimiao/Desktop/\"Trends in Communication Science\"/output_xlsx/2017-2017.xlsx')\n",
    "df_2018 = pd.read_excel('/Users/lizhimiao/Desktop/\"Trends in Communication Science\"/output_xlsx/2018-2018.xlsx')\n",
    "df_2019 = pd.read_excel('/Users/lizhimiao/Desktop/\"Trends in Communication Science\"/output_xlsx/2019-2019.xlsx')\n",
    "df_2020_2021 = pd.read_excel('/Users/lizhimiao/Desktop/\"Trends in Communication Science\"/output_xlsx/2020-2021.xlsx')"
   ]
  },
  {
   "cell_type": "code",
   "execution_count": null,
   "metadata": {},
   "outputs": [],
   "source": [
    "df_concat = pd.concat([df_1900_1965, df_1966_1980,df_1981_1989,df_1990_1995,df_1996_1999,df_2000_2002,df_2003_2004,df_2005_2006,df_2007,df_2008,df_2009,df_2010,df_2010,df_2011,df_2012,df_2013,df_2014,df_2015,df_2016,df_2017,df_2018,df_2019,df_2020_2021], axis=0) "
   ]
  },
  {
   "cell_type": "code",
   "execution_count": null,
   "metadata": {},
   "outputs": [],
   "source": [
    "len(df_concat)"
   ]
  },
  {
   "cell_type": "code",
   "execution_count": null,
   "metadata": {},
   "outputs": [],
   "source": [
    "df_concat.head(5)"
   ]
  },
  {
   "cell_type": "code",
   "execution_count": null,
   "metadata": {},
   "outputs": [],
   "source": [
    "df_concat.to_excel('df_concat.xlsx')"
   ]
  }
 ]
}